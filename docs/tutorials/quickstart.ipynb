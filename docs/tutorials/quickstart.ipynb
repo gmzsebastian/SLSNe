{
 "cells": [
  {
   "cell_type": "markdown",
   "id": "c93a6e2f",
   "metadata": {},
   "source": [
    "(lightcurve)=\n",
    "\n",
    "# Create a Lightcurve"
   ]
  },
  {
   "cell_type": "markdown",
   "id": "2a7e412d",
   "metadata": {},
   "source": [
    "This notebook shows one of the simplest functionalities of the catalog, how to obtain a light curve, or a series of light curves. First, import the `slsne` package."
   ]
  },
  {
   "cell_type": "code",
   "execution_count": null,
   "id": "12a9f9d7",
   "metadata": {},
   "outputs": [],
   "source": [
    "import slsne"
   ]
  },
  {
   "cell_type": "markdown",
   "id": "07b25a84",
   "metadata": {},
   "source": [
    "Now we can use the built in `get_lightcurves` function to do just that. The default value of `sne = \"all\"` will import all the light curves of all SLSNe and return the mean and the $\\pm 1 \\sigma$ range in AB magnitudes."
   ]
  },
  {
   "cell_type": "code",
   "execution_count": null,
   "id": "39124d01",
   "metadata": {},
   "outputs": [],
   "source": [
    "# Get light curves of all SLSNe in r-band\n",
    "all_r = slsne.get_lc(\"r\")\n",
    "\n",
    "# Get a single SLSN light curve\n",
    "r_2018lfe = slsne.get_lc(\"r\", sne = \"2018lfe\")"
   ]
  },
  {
   "cell_type": "markdown",
   "id": "3df68235",
   "metadata": {},
   "source": [
    "Now lets plot the results."
   ]
  },
  {
   "cell_type": "code",
   "execution_count": null,
   "id": "a0b0a706",
   "metadata": {},
   "outputs": [],
   "source": [
    "import matplotlib.pyplot as plt\n",
    "\n",
    "plt.plot(r_2018lfe['phase'], r_2018lfe['mag'], label = \"2018lfe\")\n",
    "plt.show();"
   ]
  }
 ],
 "metadata": {
  "kernelspec": {
   "display_name": "Python 3",
   "language": "python",
   "name": "python3"
  },
  "language_info": {
   "codemirror_mode": {
    "name": "ipython",
    "version": 3
   },
   "file_extension": ".py",
   "mimetype": "text/x-python",
   "name": "python",
   "nbconvert_exporter": "python",
   "pygments_lexer": "ipython3",
   "version": "3.7.4"
  }
 },
 "nbformat": 4,
 "nbformat_minor": 5
}
